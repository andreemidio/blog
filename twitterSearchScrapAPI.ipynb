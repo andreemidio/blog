{
 "cells": [
  {
   "cell_type": "code",
   "execution_count": 86,
   "metadata": {},
   "outputs": [
    {
     "name": "stdout",
     "output_type": "stream",
     "text": [
      "@ufcfightfan tweeted: This is getting wild! #trump https://t.co/SGCSWxLJ5Z\n",
      "@kellyandscreech tweeted: Juan Pablo is to George W Bush as Arie Luvendyk is to Donald trump \n",
      "\n",
      "#TheBachelor #trump #arieLuyendyk #maddow\n",
      "@Saddleman61 tweeted: RT @FoxNews: .@AmbJohnBolton: \"[North Korean leaders] fear Donald #Trump...they've finally figured out he's not Barack #Obama.\" https://t.c…\n",
      "@Cathrynlefflmft tweeted: I just so miss #Obama...😢 #StormyDaniels sues #Trump https://t.co/GZVYFyQyRG via @NBCNightlyNews\n",
      "@jplau1 tweeted: RT @NWPinPDX: #Trump said he would come to DC to \"drain the swamp\". As we've seen time &amp; again Trump forgot to start w/ WH where he's hired…\n",
      "@KingSpearChuckr tweeted: @FLOTUS your husband sleeps with prostitutes and pornstars I hope you have been tested for HIV #Trump\n",
      "@MarcushMy tweeted: RT @stevechovanec: Excellent @EmpireFiles ep on #NorthKorea &amp; #Trump's genocidal threats against them. @AbbyMartin conducts an in-depth int…\n",
      "@Tammylynnmiddl1 tweeted: RT @DonnaWR8: RUSSIAN KREMLIN🇷🇺CONNECTION\n",
      "\n",
      "Entity Gives One BILLION Rubles ($35 MILLION #USA) To John PODESTA’s Co.🤔\n",
      "\n",
      "#MAGA #TRUMP https://…\n",
      "@BoxChamp88 tweeted: RT @Twisted_Texan: Foretelling🔮 #Trump https://t.co/XlXLKqt82p\n",
      "@hrh_orchid tweeted: RT @dabeard: Retaliation for #Trump trade war will wallop states that #Trunp carried. https://t.co/7wqo5ZXIoY\n",
      "@PositiveImpactd tweeted: RT @DonnaWR8: RUSSIAN KREMLIN🇷🇺CONNECTION\n",
      "\n",
      "Entity Gives One BILLION Rubles ($35 MILLION #USA) To John PODESTA’s Co.🤔\n",
      "\n",
      "#MAGA #TRUMP https://…\n",
      "@BareFootPeasant tweeted: Not sure that  #Trump wants to stop the invasion. It's a National security and he sleeps. https://t.co/ED5O4j94h4\n",
      "@john_cronin48 tweeted: RT @DavidRomeiPHD: What is #DonaldTrump covering up?  Crooked man.  Immoral monster.\n",
      "#Trump Lawyer Obtained Restraining Order to Silence St…\n",
      "@rokeypdx tweeted: RT @pollsofpolitics: Do you believe the #trump #WhiteHouse is running???\n",
      "Vote and retweet to spread poll!! #TheResistance #MAGA #Resist @re…\n",
      "@crmciver1 tweeted: @RepErikPaulsen @chadgreenway52 @Vikings Speaking of retirement==&gt;&gt;\n",
      "#MoreThan50 are eager to celebrate yours.\n",
      "\n",
      "You'… https://t.co/tdPMUqq4iY\n",
      "@CGG9876 tweeted: RT @JanzforCongress: It looks like #Trump will be appearing with Devin Nunes in the district next week. Who’s ready to join me in showing T…\n",
      "@franklinstrauss tweeted: Hope Hicks tells Congress she can’t provide #emails requested – her reason is bizarre: A report… https://t.co/FCw2aXpMoT #Trump #MAGA\n",
      "@franklinstrauss tweeted: Jared goes to #Mexico: Kushner meets with President Enrique Pena Nieto for talks: Jared Kushner… https://t.co/fvvXpvXSG7 #Trump #MAGA\n",
      "@DrWAVeSportCd1 tweeted: RT @JanzforCongress: It looks like #Trump will be appearing with Devin Nunes in the district next week. Who’s ready to join me in showing T…\n",
      "@Thelast_try tweeted: RT @DavidRomeiPHD: What is #DonaldTrump covering up?  Crooked man.  Immoral monster.\n",
      "#Trump Lawyer Obtained Restraining Order to Silence St…\n",
      "@Sedulia tweeted: French president @EmmanuelMacron does not approve of #Trump's decision to recognize Jerusalem as official capital o… https://t.co/In6ibSM0tV\n",
      "@LillyYaGirl tweeted: This sums up everything in a family friendly, easy to consume and comprehend way\n",
      "---------------------------… https://t.co/MU04RIrQ0m\n",
      "@Pinkey_Bethyl tweeted: RT @JanzforCongress: It looks like #Trump will be appearing with Devin Nunes in the district next week. Who’s ready to join me in showing T…\n",
      "@YaaYaaWhat tweeted: RT @NWPinPDX: #Trump said he would come to DC to \"drain the swamp\". As we've seen time &amp; again Trump forgot to start w/ WH where he's hired…\n",
      "@Handleys tweeted: RT @JanzforCongress: It looks like #Trump will be appearing with Devin Nunes in the district next week. Who’s ready to join me in showing T…\n",
      "@SimonGunson tweeted: @RiYongHo By patience &amp; perserverance DPRK shall win as #Trump over reaches himself and destroys the US economy. Fear nothing\n",
      "@LansingsTommy tweeted: RT @JanzforCongress: It looks like #Trump will be appearing with Devin Nunes in the district next week. Who’s ready to join me in showing T…\n",
      "@FreedomUSA835 tweeted: @TGowdySC Millions agree with 'Proud Texan' .\n",
      "We need you sir, and many more like you.\n",
      "#Trump #JusticeForAll #MAGA… https://t.co/aVY9ERB57L\n",
      "@RidgeReaper68 tweeted: RT @VictorEriceira: 🇺🇸 #TRUMP #US STEEL FIRST  👊\n",
      "\n",
      "🇪🇺 #EU promised to put tariffs on exports to the US including peanut butter, orange juice…\n",
      "@IIIClaireIII tweeted: @TIME Has #Trump arrived yet?! Where's a Trump when you're need one? https://t.co/LLPcKCgbCM\n",
      "@guavate86 tweeted: RT @NWPinPDX: #Trump said he would come to DC to \"drain the swamp\". As we've seen time &amp; again Trump forgot to start w/ WH where he's hired…\n",
      "@LarrykinsM tweeted: RT @DonnaWR8: RUSSIAN KREMLIN🇷🇺CONNECTION\n",
      "\n",
      "Entity Gives One BILLION Rubles ($35 MILLION #USA) To John PODESTA’s Co.🤔\n",
      "\n",
      "#MAGA #TRUMP https://…\n",
      "@Deniseflemings tweeted: @FoxNews @Americanoid @PressSec @POTUS I voted for #POTUS #Trump &amp; he’s doing an amazing job!! #MAGA 🇺🇸\n",
      "@Lovemyusa626 tweeted: #ChicagoPD100 WED RALLY @realDonaldTrump #SuperFan #USA #Trump #MAGA #EggDrp #GoLive #QAnon #Oscars #9… https://t.co/B1jEcVhg7s\n",
      "@BazersCarol tweeted: RT @pollsofpolitics: Do you think #Trump's proposed steel &amp; aluminum tariffs will be a good thing for the USA???\n",
      "Vote and retweet to spread…\n",
      "@debbie_smisek tweeted: RT @kwilli1046: #Trump Has Denounced The KKK &amp; White Supremacists Multiple Times &amp; The #FakeNews Media Still Blasts Him. But When Prominent…\n",
      "@Canadianwall2 tweeted: RT @OP_Report: Clueless #Melania Sends Out A Baffling Tweet That Proves She Has No Idea What #Trump Is Up To All Day https://t.co/fsOKKj2FP…\n",
      "@Swamp_Fever2020 tweeted: RT @FoxNews: .@AmbJohnBolton: \"[North Korean leaders] fear Donald #Trump...they've finally figured out he's not Barack #Obama.\" https://t.c…\n",
      "@michellebullet1 tweeted: #Neocons pissed that #Trump won’t take the bait and fight with #Russia https://t.co/4yuaIuIdLA\n",
      "@BazersCarol tweeted: RT @pollsofpolitics: Do you believe the #trump #WhiteHouse is running???\n",
      "Vote and retweet to spread poll!! #TheResistance #MAGA #Resist @re…\n",
      "@JkBoo1 tweeted: RT @chrisoldcorn: The United States of America is the greatest threat to peace in the world.\n",
      "\n",
      "#us #military #Trump #dprk #syria #peace http…\n",
      "@buddy_laoulach tweeted: RT @FoxNews: .@AmbJohnBolton: \"[North Korean leaders] fear Donald #Trump...they've finally figured out he's not Barack #Obama.\" https://t.c…\n",
      "@RosemarieBrown3 tweeted: RT @JanzforCongress: It looks like #Trump will be appearing with Devin Nunes in the district next week. Who’s ready to join me in showing T…\n",
      "@citizenyid tweeted: @nytimes TREASON #TRUMP is intentionally hurting American citizens, and  global citizens as per instructions from P… https://t.co/mdf47gPAJw\n",
      "@KevinSecular2 tweeted: RT @JanzforCongress: It looks like #Trump will be appearing with Devin Nunes in the district next week. Who’s ready to join me in showing T…\n",
      "@Bobbowden50 tweeted: RT @pollsofpolitics: Do you think #Trump's proposed steel &amp; aluminum tariffs will be a good thing for the USA???\n",
      "Vote and retweet to spread…\n",
      "@iamSoulArmada tweeted: @lauren_hoggs EVERY STUDENT, LITERALLY, is MORE QUALIFIED THAN THAT DISGRACEFUL EXCUSE FOR A GOVERNMENT OFFICIAL...… https://t.co/2xRyLEgzUk\n",
      "@CheriMolonLabe8 tweeted: RT @GOPPollAnalyst: .@BillHemmer to @TGowdySC and @RepGoodlatte: Do you have evidence the Department of Justice was spying on the #Trump te…\n",
      "@Blandishmentbob tweeted: RT @dabeard: Retaliation for #Trump trade war will wallop states that #Trunp carried. https://t.co/7wqo5ZXIoY\n",
      "@Toimatom tweeted: The left are implementing socialism, by crushing masculinity, promoting femininity... #tcot #maga #trump #brexit… https://t.co/t1LOYrQ17A\n",
      "@JaSoCali tweeted: RT @JanzforCongress: It looks like #Trump will be appearing with Devin Nunes in the district next week. Who’s ready to join me in showing T…\n",
      "@racress tweeted: RT @DrDenaGrayson: 👆🏼THIS👇🏼\n",
      "\n",
      "Letter may provide important evidence of #Trump's INTENT to halt #Russia🇷🇺probe👉🏼Obstruction of Justice‼️\n",
      "\n",
      "htt…\n",
      "@TheLukasKrycek tweeted: RT @FoxNews: .@AmbJohnBolton: \"[North Korean leaders] fear Donald #Trump...they've finally figured out he's not Barack #Obama.\" https://t.c…\n",
      "@twistools_en tweeted: Attorneys: #Trump Team Wraps Immigrants And Their Employers In Red Tape https://t.co/A5SWua6d92\n",
      "@IMO_USA tweeted: NO SUCH AS AN INDEPENDENT OBJECTIVE UNBIASED PRESS ANYMORE - @CBS Urges #Oprah to Run Against #Trump: You ‘Heal and… https://t.co/IyJmsp83Um\n",
      "@lmv6719 tweeted: RT @NWPinPDX: #Trump said he would come to DC to \"drain the swamp\". As we've seen time &amp; again Trump forgot to start w/ WH where he's hired…\n",
      "@MoviesWrld tweeted: Seth Meyers Imagines the Picture #Trump Might Have Sent Stormy Daniels https://t.co/JHVALvm0Rm https://t.co/scHpSL32gX\n",
      "@MichaelJoe89 tweeted: RT @jptoner50: Everyday #Trump looks more impotent and weak. While it’s a really good thing for the country if he doesn’t inact the tariffs…\n",
      "@_kapts tweeted: @GOP @realDonaldTrump If YOU would defend the rule of law you would #impeach #Trump\n",
      "\n",
      "But you don't. You are a bunch of bigot liars.\n",
      "@ruthums2016 tweeted: RT @JanzforCongress: It looks like #Trump will be appearing with Devin Nunes in the district next week. Who’s ready to join me in showing T…\n",
      "@Jihann801 tweeted: RT @kurdistannews24: as a Kurdish journalist i feel ashamed that i supported #Trump during last election , he used kurds in the fight again…\n",
      "@RichKelsey tweeted: The #Trump attraction was so clear from the beginning. I just never thought he'd win. The Trump phenomenon explaine… https://t.co/xJmcdMHdqH\n",
      "@PoliticsNewz tweeted: Obama, #Trump officials face subpoenas if they don't answer House #Intel questionnaire on dossier by Friday - Washi… https://t.co/W1LouN2zXG\n",
      "@justmarisa1 tweeted: RT @ToDropADime2: Why don't the #Trump Supporters/\"Christian Conservatives\" Denounce his Porn Star, Pussy Grabbing\n",
      "behavior?  (Pls Vote &amp; R…\n",
      "@monkjona tweeted: #Trump: IS he NOT a Man of Sin? Invites comparison w THE Man of Sin coming Fast! He orders #McGahn to LIE that he d… https://t.co/1Fwf9MRZZ8\n",
      "@Dawniewouldnt tweeted: @NoahShachtman Cue the deal making like in Nixon and the lawyer tell all #Trump #Cohen #Mueller  oh wait maybe Cohen isn’t that smart\n",
      "@NewsSwsArmyKnfe tweeted: RT @dabeard: \"I felt like a POW recording a message.\" Trump-friendly Sinclair Broadcasting forces TV news anchors to echo #Trump \"fake news…\n",
      "@JBucknoff tweeted: Panama Hotel Owner Declares Victory and #Trump’s Name 💩 Is Removed -via @NYTimes https://t.co/vjEJe1xjel\n",
      "@bankofpyb tweeted: RT @JanzforCongress: It looks like #Trump will be appearing with Devin Nunes in the district next week. Who’s ready to join me in showing T…\n",
      "@shereeeeno tweeted: RT @DavidRomeiPHD: What is #DonaldTrump covering up?  Crooked man.  Immoral monster.\n",
      "#Trump Lawyer Obtained Restraining Order to Silence St…\n",
      "@DrumMadw2 tweeted: RT @FoxNews: .@AmbJohnBolton: \"[North Korean leaders] fear Donald #Trump...they've finally figured out he's not Barack #Obama.\" https://t.c…\n",
      "@MuslimMirror tweeted: #Trump asked witnesses about special counsel conversations: Report\n",
      "\n",
      "https://t.co/uUcMJjIyn1 https://t.co/TTHj8usXWG\n",
      "@CROWENATION2016 tweeted: RT @pollsofpolitics: Do you think #Trump's proposed steel &amp; aluminum tariffs will be a good thing for the USA???\n",
      "Vote and retweet to spread…\n",
      "@nyfedsdaughter tweeted: RT @JanzforCongress: It looks like #Trump will be appearing with Devin Nunes in the district next week. Who’s ready to join me in showing T…\n",
      "@vicktop55 tweeted: Color revolutions will no longer be?: Establishment alarmed as #Trump threatens to gut #US ‘democracy promotion’ ra… https://t.co/cALKVRy6yh\n",
      "@Sedulia tweeted: \"The list of resignations from the White House is getting longer\" #Trump https://t.co/9AsiJnDLEc\n",
      "@jguzmanphd tweeted: RT @PoliticsNewz: #Trump is losing the trade #War with #China https://t.co/9UHE4TNZDu\n",
      "@keithincali tweeted: RT @JanzforCongress: It looks like #Trump will be appearing with Devin Nunes in the district next week. Who’s ready to join me in showing T…\n",
      "@NWPinPDX tweeted: #Trump said he would come to DC to \"drain the swamp\". As we've seen time &amp; again Trump forgot to start w/ WH where… https://t.co/OMqXKuSmt0\n",
      "@PoliticalSense1 tweeted: RT @JanzforCongress: It looks like #Trump will be appearing with Devin Nunes in the district next week. Who’s ready to join me in showing T…\n"
     ]
    }
   ],
   "source": [
    "#referências\n",
    "#https://pythonprogramming.net/stop-words-nltk-tutorial/?completed=/tokenizing-words-sentences-nltk-tutorial/\n",
    "#bibioteca de analise de textos NLTK\n",
    "import nltk\n",
    "from nltk.tokenize import sent_tokenize, word_tokenize\n",
    "from nltk.corpus import stopwords\n",
    "from nltk.tokenize import word_tokenize\n",
    "\n",
    "#biblioteca de manipulação de dados\n",
    "import pandas as pd\n",
    "import numpy as np\n",
    "\n",
    "#biblioteca de raspagem de dados do twitter\n",
    "#referência\n",
    "#https://pypi.python.org/pypi/TwitterSearch/\n",
    "from TwitterSearch import *\n",
    "try:\n",
    "\n",
    "    ts = TwitterSearch(\n",
    "        consumer_key = 'HS80eyaFqpCRVoRPM9XamL3Z0',\n",
    "        consumer_secret = 'pA7ZZ2dqJ7km7W1n2fv8jhM6pZUjiGJRDvv4SJtBkvzso6Yqi2',\n",
    "        access_token = '80844534-9Lc223LdtkvdLHT22z73C9rIf60N21WdwczHU2TFB',\n",
    "        access_token_secret = 'bOjGH3j9ZwNk7GYqltzZo6pGCY2PycjPo8X9ojY5IJVe1'\n",
    "     )\n",
    "\n",
    "    tso = TwitterSearchOrder()\n",
    "    tso.set_keywords(['#trump'])\n",
    "    tso.set_language('en')\n",
    "\n",
    "    for tweet in ts.search_tweets_iterable(tso):\n",
    "       print( '@%s tweeted: %s' % ( tweet['user']['screen_name'], tweet['text'] ) )\n",
    "        \n",
    "except TwitterSearchException as e:\n",
    "    print(e)"
   ]
  },
  {
   "cell_type": "code",
   "execution_count": 87,
   "metadata": {},
   "outputs": [
    {
     "name": "stdout",
     "output_type": "stream",
     "text": [
      "971617488776716288\n"
     ]
    }
   ],
   "source": [
    "print(tweet['id'])"
   ]
  },
  {
   "cell_type": "code",
   "execution_count": 88,
   "metadata": {},
   "outputs": [
    {
     "name": "stdout",
     "output_type": "stream",
     "text": [
      "{'id': 276266427, 'id_str': '276266427', 'name': 'Politcalsense2018', 'screen_name': 'PoliticalSense1', 'location': 'Spring, TX', 'description': 'Vietnam Vet\\'s personal view.  \"The Rich make all the decisions that affect the poor\"\\n#RealChristian\\n#ResistEvil', 'url': None, 'entities': {'description': {'urls': []}}, 'protected': False, 'followers_count': 4014, 'friends_count': 4456, 'listed_count': 10, 'created_at': 'Sun Apr 03 00:53:21 +0000 2011', 'favourites_count': 2978, 'utc_offset': -21600, 'time_zone': 'Central Time (US & Canada)', 'geo_enabled': False, 'verified': False, 'statuses_count': 29906, 'lang': 'en', 'contributors_enabled': False, 'is_translator': False, 'is_translation_enabled': False, 'profile_background_color': '000000', 'profile_background_image_url': 'http://abs.twimg.com/images/themes/theme1/bg.png', 'profile_background_image_url_https': 'https://abs.twimg.com/images/themes/theme1/bg.png', 'profile_background_tile': False, 'profile_image_url': 'http://pbs.twimg.com/profile_images/819753137409957888/etw7nJwE_normal.jpg', 'profile_image_url_https': 'https://pbs.twimg.com/profile_images/819753137409957888/etw7nJwE_normal.jpg', 'profile_link_color': '1B95E0', 'profile_sidebar_border_color': '000000', 'profile_sidebar_fill_color': '000000', 'profile_text_color': '000000', 'profile_use_background_image': False, 'has_extended_profile': False, 'default_profile': False, 'default_profile_image': False, 'following': False, 'follow_request_sent': False, 'notifications': False, 'translator_type': 'none'}\n"
     ]
    }
   ],
   "source": [
    "print(tweet['user'])"
   ]
  },
  {
   "cell_type": "code",
   "execution_count": 89,
   "metadata": {},
   "outputs": [
    {
     "name": "stdout",
     "output_type": "stream",
     "text": [
      "Vietnam Vet's personal view.  \"The Rich make all the decisions that affect the poor\"\n",
      "#RealChristian\n",
      "#ResistEvil\n",
      "None\n",
      "en\n",
      "Central Time (US & Canada)\n",
      "False\n",
      "4014\n",
      "4456\n",
      "2978\n",
      "Politcalsense2018\n",
      "None\n",
      "{'description': {'urls': []}}\n"
     ]
    }
   ],
   "source": [
    "#print(tweet['text'])\n",
    "#print(tweet['user']['location'])\n",
    "\n",
    "#print(tweet['user']['followers_count'])\n",
    "\n",
    "print(tweet['user']['description'])\n",
    "print(tweet['user']['url'])\n",
    "print(tweet['user']['lang'])\n",
    "print(tweet['user']['time_zone'])\n",
    "print(tweet['user']['protected'])\n",
    "print(tweet['user']['followers_count'])\n",
    "print(tweet['user']['friends_count'])\n",
    "print(tweet['user']['favourites_count'])\n",
    "print(tweet['user']['name'])\n",
    "print(tweet['user']['url'])\n",
    "print(tweet['user']['entities'])"
   ]
  },
  {
   "cell_type": "code",
   "execution_count": 90,
   "metadata": {},
   "outputs": [],
   "source": [
    "import pandas as pd\n",
    "df = pd.DataFrame([\n",
    "    [tweet['id'],tweet['user']['screen_name'],\n",
    "     tweet['user']['name'],\n",
    "     tweet['user']['url'],\n",
    "     tweet['user']['location'],\n",
    "     tweet['text'], \n",
    "     tweet['user']['followers_count'],\n",
    "     tweet['user']['lang'],\n",
    "     tweet['user']['description']\n",
    "    ] for tweet in ts.search_tweets_iterable(tso)],\n",
    "    columns = ['ID','user','Nome','Perfil','Localização', 'Tweet', 'Seguidores','Linguagem', 'Descrição']) "
   ]
  },
  {
   "cell_type": "code",
   "execution_count": 91,
   "metadata": {},
   "outputs": [
    {
     "data": {
      "text/html": [
       "<div>\n",
       "<style scoped>\n",
       "    .dataframe tbody tr th:only-of-type {\n",
       "        vertical-align: middle;\n",
       "    }\n",
       "\n",
       "    .dataframe tbody tr th {\n",
       "        vertical-align: top;\n",
       "    }\n",
       "\n",
       "    .dataframe thead th {\n",
       "        text-align: right;\n",
       "    }\n",
       "</style>\n",
       "<table border=\"1\" class=\"dataframe\">\n",
       "  <thead>\n",
       "    <tr style=\"text-align: right;\">\n",
       "      <th></th>\n",
       "      <th>ID</th>\n",
       "      <th>user</th>\n",
       "      <th>Nome</th>\n",
       "      <th>Perfil</th>\n",
       "      <th>Localização</th>\n",
       "      <th>Tweet</th>\n",
       "      <th>Seguidores</th>\n",
       "      <th>Linguagem</th>\n",
       "      <th>Descrição</th>\n",
       "    </tr>\n",
       "  </thead>\n",
       "  <tbody>\n",
       "    <tr>\n",
       "      <th>0</th>\n",
       "      <td>971618892257923073</td>\n",
       "      <td>IndivisibleBHM</td>\n",
       "      <td>IndivisibleBHM</td>\n",
       "      <td>None</td>\n",
       "      <td>United States</td>\n",
       "      <td>RT @jptoner50: Everyday #Trump looks more impo...</td>\n",
       "      <td>4326</td>\n",
       "      <td>en</td>\n",
       "      <td>Birmingham Indivisible is a group of concerned...</td>\n",
       "    </tr>\n",
       "    <tr>\n",
       "      <th>1</th>\n",
       "      <td>971618839963230209</td>\n",
       "      <td>Joseph702Olivas</td>\n",
       "      <td>Joseph Olivas</td>\n",
       "      <td>https://t.co/0SLQYPSq95</td>\n",
       "      <td>Henderson, NV</td>\n",
       "      <td>@realDonaldTrump #Trump to nominate Bernie Madoff</td>\n",
       "      <td>518</td>\n",
       "      <td>en</td>\n",
       "      <td>Tech Exec in Nevada for leading $3 Billion IT ...</td>\n",
       "    </tr>\n",
       "    <tr>\n",
       "      <th>2</th>\n",
       "      <td>971618774901080064</td>\n",
       "      <td>EbbieRules</td>\n",
       "      <td>Ebbie</td>\n",
       "      <td>None</td>\n",
       "      <td></td>\n",
       "      <td>RT @JanzforCongress: It looks like #Trump will...</td>\n",
       "      <td>165</td>\n",
       "      <td>en</td>\n",
       "      <td>Love one another. Peace &amp; freedom. We're a spe...</td>\n",
       "    </tr>\n",
       "    <tr>\n",
       "      <th>3</th>\n",
       "      <td>971618704730423296</td>\n",
       "      <td>ufcfightfan</td>\n",
       "      <td>Robert Riz</td>\n",
       "      <td>None</td>\n",
       "      <td></td>\n",
       "      <td>This is getting wild! #trump https://t.co/SGCS...</td>\n",
       "      <td>1556</td>\n",
       "      <td>en</td>\n",
       "      <td>Former UFC fan. MMA afficionado.</td>\n",
       "    </tr>\n",
       "    <tr>\n",
       "      <th>4</th>\n",
       "      <td>971618686225338369</td>\n",
       "      <td>kellyandscreech</td>\n",
       "      <td>kellyandscreech</td>\n",
       "      <td>None</td>\n",
       "      <td></td>\n",
       "      <td>Juan Pablo is to George W Bush as Arie Luvendy...</td>\n",
       "      <td>970</td>\n",
       "      <td>en</td>\n",
       "      <td>Comedy is more important now than ever. So are...</td>\n",
       "    </tr>\n",
       "  </tbody>\n",
       "</table>\n",
       "</div>"
      ],
      "text/plain": [
       "                   ID             user             Nome  \\\n",
       "0  971618892257923073   IndivisibleBHM   IndivisibleBHM   \n",
       "1  971618839963230209  Joseph702Olivas    Joseph Olivas   \n",
       "2  971618774901080064       EbbieRules            Ebbie   \n",
       "3  971618704730423296      ufcfightfan       Robert Riz   \n",
       "4  971618686225338369  kellyandscreech  kellyandscreech   \n",
       "\n",
       "                    Perfil    Localização  \\\n",
       "0                     None  United States   \n",
       "1  https://t.co/0SLQYPSq95  Henderson, NV   \n",
       "2                     None                  \n",
       "3                     None                  \n",
       "4                     None                  \n",
       "\n",
       "                                               Tweet  Seguidores Linguagem  \\\n",
       "0  RT @jptoner50: Everyday #Trump looks more impo...        4326        en   \n",
       "1  @realDonaldTrump #Trump to nominate Bernie Madoff         518        en   \n",
       "2  RT @JanzforCongress: It looks like #Trump will...         165        en   \n",
       "3  This is getting wild! #trump https://t.co/SGCS...        1556        en   \n",
       "4  Juan Pablo is to George W Bush as Arie Luvendy...         970        en   \n",
       "\n",
       "                                           Descrição  \n",
       "0  Birmingham Indivisible is a group of concerned...  \n",
       "1  Tech Exec in Nevada for leading $3 Billion IT ...  \n",
       "2  Love one another. Peace & freedom. We're a spe...  \n",
       "3                   Former UFC fan. MMA afficionado.  \n",
       "4  Comedy is more important now than ever. So are...  "
      ]
     },
     "execution_count": 91,
     "metadata": {},
     "output_type": "execute_result"
    }
   ],
   "source": [
    "df.head()"
   ]
  },
  {
   "cell_type": "code",
   "execution_count": 92,
   "metadata": {},
   "outputs": [],
   "source": [
    "creatingCsv =pd.DataFrame.to_csv(df,sep=',',  \n",
    "                                 header=True, index=True,\n",
    "                                 mode='a',\n",
    "                                 encoding='utf-8',\n",
    "                                 path_or_buf='trumptemerlula_twittersearch_sentiments_analysis_tweetSearch.csv')"
   ]
  },
  {
   "cell_type": "code",
   "execution_count": 93,
   "metadata": {},
   "outputs": [],
   "source": [
    "import re"
   ]
  },
  {
   "cell_type": "code",
   "execution_count": 94,
   "metadata": {},
   "outputs": [],
   "source": [
    "removeHashtag = tweet['text']"
   ]
  },
  {
   "cell_type": "code",
   "execution_count": 95,
   "metadata": {},
   "outputs": [
    {
     "data": {
      "text/plain": [
       "'RT @JanzforCongress: It looks like #Trump will be appearing with Devin Nunes in the district next week. Who’s ready to join me in showing T…'"
      ]
     },
     "execution_count": 95,
     "metadata": {},
     "output_type": "execute_result"
    }
   ],
   "source": [
    "removeHashtag"
   ]
  },
  {
   "cell_type": "code",
   "execution_count": 96,
   "metadata": {},
   "outputs": [],
   "source": [
    "#resultadoSemHashtag = ' '.join(re.sub(\"(@[A-Za-z0-9]+)|([^0-9A-Za-z \\t])|(\\w+:\\/\\/\\S+)\",\" \",removeHashtag).split())\n",
    "resultadoSemHashtag = ' '.join(re.sub(\"#\",\" \",removeHashtag).split())"
   ]
  },
  {
   "cell_type": "code",
   "execution_count": 97,
   "metadata": {},
   "outputs": [
    {
     "data": {
      "text/plain": [
       "'RT @JanzforCongress: It looks like Trump will be appearing with Devin Nunes in the district next week. Who’s ready to join me in showing T…'"
      ]
     },
     "execution_count": 97,
     "metadata": {},
     "output_type": "execute_result"
    }
   ],
   "source": [
    "resultadoSemHashtag"
   ]
  },
  {
   "cell_type": "code",
   "execution_count": 98,
   "metadata": {},
   "outputs": [],
   "source": [
    "removeRT  = ' '.join(re.sub(\"RT\",\" \",resultadoSemHashtag).split())"
   ]
  },
  {
   "cell_type": "code",
   "execution_count": 99,
   "metadata": {},
   "outputs": [
    {
     "data": {
      "text/plain": [
       "'@JanzforCongress: It looks like Trump will be appearing with Devin Nunes in the district next week. Who’s ready to join me in showing T…'"
      ]
     },
     "execution_count": 99,
     "metadata": {},
     "output_type": "execute_result"
    }
   ],
   "source": [
    "removeRT"
   ]
  },
  {
   "cell_type": "code",
   "execution_count": 100,
   "metadata": {},
   "outputs": [],
   "source": [
    "removeAspas = ' '.join(re.sub(\"(@[A-Za-z0-9]+)|([^0-9A-Za-z \\t])|(\\w+:\\/\\/\\S+)\",\" \",resultadoSemHashtag).split())"
   ]
  },
  {
   "cell_type": "code",
   "execution_count": 101,
   "metadata": {},
   "outputs": [
    {
     "data": {
      "text/plain": [
       "'RT It looks like Trump will be appearing with Devin Nunes in the district next week Who s ready to join me in showing T'"
      ]
     },
     "execution_count": 101,
     "metadata": {},
     "output_type": "execute_result"
    }
   ],
   "source": [
    "removeAspas"
   ]
  },
  {
   "cell_type": "code",
   "execution_count": 102,
   "metadata": {},
   "outputs": [],
   "source": [
    "from textblob import TextBlob\n",
    "import pandas as pd\n",
    "import numpy as np"
   ]
  },
  {
   "cell_type": "code",
   "execution_count": 103,
   "metadata": {},
   "outputs": [],
   "source": [
    "analysis = TextBlob(removeRT).sentiment"
   ]
  },
  {
   "cell_type": "code",
   "execution_count": 104,
   "metadata": {},
   "outputs": [
    {
     "data": {
      "text/plain": [
       "Sentiment(polarity=0.1, subjectivity=0.25)"
      ]
     },
     "execution_count": 104,
     "metadata": {},
     "output_type": "execute_result"
    }
   ],
   "source": [
    "analysis"
   ]
  },
  {
   "cell_type": "code",
   "execution_count": 105,
   "metadata": {},
   "outputs": [
    {
     "name": "stdout",
     "output_type": "stream",
     "text": [
      "['@JanzforCongress: It looks like Trump will be appearing with Devin Nunes in the district next week.', 'Who’s ready to join me in showing T…']\n"
     ]
    }
   ],
   "source": [
    "print(sent_tokenize(removeRT))"
   ]
  },
  {
   "cell_type": "code",
   "execution_count": 106,
   "metadata": {},
   "outputs": [
    {
     "name": "stdout",
     "output_type": "stream",
     "text": [
      "['@', 'JanzforCongress', ':', 'It', 'looks', 'like', 'Trump', 'will', 'be', 'appearing', 'with', 'Devin', 'Nunes', 'in', 'the', 'district', 'next', 'week', '.', 'Who', '’', 's', 'ready', 'to', 'join', 'me', 'in', 'showing', 'T…']\n"
     ]
    }
   ],
   "source": [
    "print(word_tokenize(removeRT))"
   ]
  },
  {
   "cell_type": "code",
   "execution_count": 107,
   "metadata": {},
   "outputs": [],
   "source": [
    "#set(stopwords.words('portuguese'))"
   ]
  },
  {
   "cell_type": "code",
   "execution_count": 109,
   "metadata": {},
   "outputs": [
    {
     "name": "stdout",
     "output_type": "stream",
     "text": [
      "['@', 'JanzforCongress', ':', 'It', 'looks', 'like', 'Trump', 'will', 'be', 'appearing', 'with', 'Devin', 'Nunes', 'in', 'the', 'district', 'next', 'week', '.', 'Who', '’', 's', 'ready', 'to', 'join', 'me', 'in', 'showing', 'T…']\n",
      "['@', 'JanzforCongress', ':', 'It', 'looks', 'like', 'Trump', 'appearing', 'Devin', 'Nunes', 'district', 'next', 'week', '.', 'Who', '’', 'ready', 'join', 'showing', 'T…']\n"
     ]
    }
   ],
   "source": [
    "example_sent = removeRT\n",
    "\n",
    "stop_words = set(stopwords.words('english'))\n",
    "\n",
    "word_tokens = word_tokenize(example_sent)\n",
    "\n",
    "filtered_sentence = [w for w in word_tokens if not w in stop_words]\n",
    "\n",
    "filtered_sentence = []\n",
    "\n",
    "for w in word_tokens:\n",
    "    if w not in stop_words:\n",
    "        filtered_sentence.append(w)\n",
    "\n",
    "print(word_tokens)\n",
    "print(filtered_sentence)"
   ]
  },
  {
   "cell_type": "code",
   "execution_count": null,
   "metadata": {},
   "outputs": [],
   "source": []
  }
 ],
 "metadata": {
  "kernelspec": {
   "display_name": "Python 3",
   "language": "python",
   "name": "python3"
  },
  "language_info": {
   "codemirror_mode": {
    "name": "ipython",
    "version": 3
   },
   "file_extension": ".py",
   "mimetype": "text/x-python",
   "name": "python",
   "nbconvert_exporter": "python",
   "pygments_lexer": "ipython3",
   "version": "3.6.4"
  }
 },
 "nbformat": 4,
 "nbformat_minor": 2
}
